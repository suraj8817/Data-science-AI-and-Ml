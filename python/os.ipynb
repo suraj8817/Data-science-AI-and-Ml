{
 "cells": [
  {
   "cell_type": "markdown",
   "id": "05050951",
   "metadata": {},
   "source": [
    "## os\n"
   ]
  },
  {
   "cell_type": "code",
   "execution_count": 4,
   "id": "cc2200be",
   "metadata": {},
   "outputs": [],
   "source": [
    "import os"
   ]
  },
  {
   "cell_type": "code",
   "execution_count": 5,
   "id": "907d11d1",
   "metadata": {},
   "outputs": [
    {
     "name": "stdout",
     "output_type": "stream",
     "text": [
      "c:\\Users\\ASUS\\Desktop\\data science\\python\n"
     ]
    }
   ],
   "source": [
    "file = os.getcwd()\n",
    "print(file)\n"
   ]
  },
  {
   "cell_type": "code",
   "execution_count": 6,
   "id": "d5736237",
   "metadata": {},
   "outputs": [
    {
     "name": "stdout",
     "output_type": "stream",
     "text": [
      "total file in this directory :- c:\\Users\\ASUS\\Desktop\\data science\\python\n"
     ]
    }
   ],
   "source": [
    "os.listdir(r\"c:\\Users\\ASUS\\Desktop\\data science\\python\")\n",
    "print(\"total file in this directory :-\",file)"
   ]
  },
  {
   "cell_type": "code",
   "execution_count": 8,
   "id": "9322aaf9",
   "metadata": {},
   "outputs": [
    {
     "data": {
      "text/plain": [
       "['basic.py.py',\n",
       " 'conditional.ipynb.py',\n",
       " 'condtional.ipynb',\n",
       " 'demo.txt',\n",
       " 'exception.ipynb',\n",
       " 'file_handling.ipynb',\n",
       " 'function.ipynb',\n",
       " 'looping.ipynb',\n",
       " 'oops.ipynb',\n",
       " 'os',\n",
       " 'os.ipynb',\n",
       " 'upflairs.txt']"
      ]
     },
     "execution_count": 8,
     "metadata": {},
     "output_type": "execute_result"
    }
   ],
   "source": [
    "path = r\"c:\\Users\\ASUS\\Desktop\\data science\\python\"\n",
    "os.listdir(path)"
   ]
  },
  {
   "cell_type": "code",
   "execution_count": 9,
   "id": "ad69bd48",
   "metadata": {},
   "outputs": [
    {
     "data": {
      "text/plain": [
       "['gen AI',\n",
       " 'LSTM& GRU',\n",
       " 'mataplotlib',\n",
       " 'ML',\n",
       " 'numpy',\n",
       " 'OS',\n",
       " 'pandas',\n",
       " 'projects',\n",
       " 'python',\n",
       " 'seaborn']"
      ]
     },
     "execution_count": 9,
     "metadata": {},
     "output_type": "execute_result"
    }
   ],
   "source": [
    "path=r\"C:\\Users\\ASUS\\Desktop\\data science\"\n",
    "os.listdir(path)"
   ]
  },
  {
   "cell_type": "code",
   "execution_count": 15,
   "id": "1fb2b624",
   "metadata": {},
   "outputs": [
    {
     "ename": "FileExistsError",
     "evalue": "[WinError 183] Cannot create a file when that file already exists: 'test'",
     "output_type": "error",
     "traceback": [
      "\u001b[31m---------------------------------------------------------------------------\u001b[39m",
      "\u001b[31mFileExistsError\u001b[39m                           Traceback (most recent call last)",
      "\u001b[36mCell\u001b[39m\u001b[36m \u001b[39m\u001b[32mIn[15]\u001b[39m\u001b[32m, line 1\u001b[39m\n\u001b[32m----> \u001b[39m\u001b[32m1\u001b[39m \u001b[43mos\u001b[49m\u001b[43m.\u001b[49m\u001b[43mmkdir\u001b[49m\u001b[43m(\u001b[49m\u001b[33;43m\"\u001b[39;49m\u001b[33;43mtest\u001b[39;49m\u001b[33;43m\"\u001b[39;49m\u001b[43m)\u001b[49m\n\u001b[32m      2\u001b[39m \u001b[38;5;28mprint\u001b[39m(\u001b[33m\"\u001b[39m\u001b[33mfolder created successfully\u001b[39m\u001b[33m\"\u001b[39m)\n",
      "\u001b[31mFileExistsError\u001b[39m: [WinError 183] Cannot create a file when that file already exists: 'test'"
     ]
    }
   ],
   "source": [
    "os.mkdir(\"test\")\n",
    "print(\"folder created successfully\")"
   ]
  },
  {
   "cell_type": "code",
   "execution_count": 17,
   "id": "e3d16f69",
   "metadata": {},
   "outputs": [
    {
     "name": "stdout",
     "output_type": "stream",
     "text": [
      "folder created successfully\n"
     ]
    }
   ],
   "source": [
    "os.mkdir(\"text\")\n",
    "print(\"folder created successfully\")"
   ]
  },
  {
   "cell_type": "code",
   "execution_count": 18,
   "id": "c3708a95",
   "metadata": {},
   "outputs": [
    {
     "data": {
      "text/plain": [
       "['basic.py.py',\n",
       " 'conditional.ipynb.py',\n",
       " 'condtional.ipynb',\n",
       " 'demo.txt',\n",
       " 'exception.ipynb',\n",
       " 'file_handling.ipynb',\n",
       " 'function.ipynb',\n",
       " 'looping.ipynb',\n",
       " 'oops.ipynb',\n",
       " 'os',\n",
       " 'os.ipynb',\n",
       " 'test',\n",
       " 'text',\n",
       " 'upflairs.txt']"
      ]
     },
     "execution_count": 18,
     "metadata": {},
     "output_type": "execute_result"
    }
   ],
   "source": [
    "os.listdir(os.getcwd())"
   ]
  },
  {
   "cell_type": "code",
   "execution_count": 19,
   "id": "0f8e7f7d",
   "metadata": {},
   "outputs": [
    {
     "name": "stdout",
     "output_type": "stream",
     "text": [
      "text directories rename to data science\n"
     ]
    }
   ],
   "source": [
    "os.rename(\"text\",\"data science\")\n",
    "print(\"text directories rename to data science\")"
   ]
  },
  {
   "cell_type": "code",
   "execution_count": 20,
   "id": "bcec8ead",
   "metadata": {},
   "outputs": [
    {
     "data": {
      "text/plain": [
       "['basic.py.py',\n",
       " 'conditional.ipynb.py',\n",
       " 'condtional.ipynb',\n",
       " 'data science',\n",
       " 'demo.txt',\n",
       " 'exception.ipynb',\n",
       " 'file_handling.ipynb',\n",
       " 'function.ipynb',\n",
       " 'looping.ipynb',\n",
       " 'oops.ipynb',\n",
       " 'os',\n",
       " 'os.ipynb',\n",
       " 'test',\n",
       " 'upflairs.txt']"
      ]
     },
     "execution_count": 20,
     "metadata": {},
     "output_type": "execute_result"
    }
   ],
   "source": [
    "os.listdir(os.getcwd())"
   ]
  },
  {
   "cell_type": "code",
   "execution_count": 21,
   "id": "5a8f0db3",
   "metadata": {},
   "outputs": [
    {
     "name": "stdout",
     "output_type": "stream",
     "text": [
      "folder deleted successfully\n"
     ]
    }
   ],
   "source": [
    "os.rmdir(\"data science\")\n",
    "print(\"folder deleted successfully\")"
   ]
  },
  {
   "cell_type": "code",
   "execution_count": 22,
   "id": "679a8302",
   "metadata": {},
   "outputs": [
    {
     "data": {
      "text/plain": [
       "'c:\\\\Users\\\\ASUS\\\\Desktop\\\\data science\\\\python'"
      ]
     },
     "execution_count": 22,
     "metadata": {},
     "output_type": "execute_result"
    }
   ],
   "source": [
    "os.getcwd()"
   ]
  },
  {
   "cell_type": "code",
   "execution_count": 23,
   "id": "0a196dc8",
   "metadata": {},
   "outputs": [
    {
     "name": "stdout",
     "output_type": "stream",
     "text": [
      "path exist None\n"
     ]
    }
   ],
   "source": [
    "path = r\"'c:\\\\Users\\\\ASUS\\\\Desktop\\\\data science\\\\python\"\n",
    "path =os.environ.get(path)\n",
    "print(\"path exist\", path)"
   ]
  },
  {
   "cell_type": "code",
   "execution_count": null,
   "id": "069f1912",
   "metadata": {},
   "outputs": [],
   "source": [
    "#os.system(path)"
   ]
  },
  {
   "cell_type": "code",
   "execution_count": null,
   "id": "91d42746",
   "metadata": {},
   "outputs": [
    {
     "data": {
      "text/plain": [
       "False"
      ]
     },
     "execution_count": 26,
     "metadata": {},
     "output_type": "execute_result"
    }
   ],
   "source": [
    "path = r\"C:\\Users\\ASUS\\Desktop\\data science\\python\\file_suraj.ipynb\"\n",
    "os.path.isfile(path)"
   ]
  },
  {
   "cell_type": "code",
   "execution_count": 29,
   "id": "a9eadec0",
   "metadata": {},
   "outputs": [
    {
     "name": "stdout",
     "output_type": "stream",
     "text": [
      "C:\\Users\\ASUS\\Desktop\\data science\\python\n"
     ]
    },
    {
     "data": {
      "text/plain": [
       "['basic.py.py',\n",
       " 'conditional.ipynb.py',\n",
       " 'condtional.ipynb',\n",
       " 'demo.txt',\n",
       " 'exception.ipynb',\n",
       " 'file_handling.ipynb',\n",
       " 'function.ipynb',\n",
       " 'looping.ipynb',\n",
       " 'oops.ipynb',\n",
       " 'os',\n",
       " 'os.ipynb',\n",
       " 'test',\n",
       " 'upflairs.txt']"
      ]
     },
     "execution_count": 29,
     "metadata": {},
     "output_type": "execute_result"
    }
   ],
   "source": [
    "path1 =r\"C:\\Users\\ASUS\"\n",
    "path2 =r\"Desktop\\data science\\python\"\n",
    "complete_path =os.path.join(path1, path2)\n",
    "print(complete_path)\n",
    "os.listdir(complete_path)"
   ]
  },
  {
   "cell_type": "code",
   "execution_count": 34,
   "id": "e6c1b87d",
   "metadata": {},
   "outputs": [
    {
     "name": "stdout",
     "output_type": "stream",
     "text": [
      "size of the file (in bytes):- 8102\n"
     ]
    }
   ],
   "source": [
    "path = r\"C:\\Users\\ASUS\\Desktop\\data science\\python\\file_handling.ipynb\"\n",
    "size =os.path.getsize(path)\n",
    "print(\"size of the file (in bytes):-\",size)"
   ]
  },
  {
   "cell_type": "code",
   "execution_count": 38,
   "id": "6a51a71d",
   "metadata": {},
   "outputs": [
    {
     "name": "stdout",
     "output_type": "stream",
     "text": [
      "before dir  c:\\Users\\ASUS\\Desktop\\data science\\python\n",
      "after dir  C:\\Users\\ASUS\\Desktop\\data science\\python\n"
     ]
    }
   ],
   "source": [
    "print(\"before dir \",os.getcwd())\n",
    "os.chdir(r\"C:\\Users\\ASUS\\Desktop\\data science\\python\")\n",
    "print(\"after dir \" ,os.getcwd())"
   ]
  },
  {
   "cell_type": "code",
   "execution_count": null,
   "id": "093fd4d8",
   "metadata": {},
   "outputs": [],
   "source": []
  }
 ],
 "metadata": {
  "kernelspec": {
   "display_name": "Python 3",
   "language": "python",
   "name": "python3"
  },
  "language_info": {
   "codemirror_mode": {
    "name": "ipython",
    "version": 3
   },
   "file_extension": ".py",
   "mimetype": "text/x-python",
   "name": "python",
   "nbconvert_exporter": "python",
   "pygments_lexer": "ipython3",
   "version": "3.13.5"
  }
 },
 "nbformat": 4,
 "nbformat_minor": 5
}
