{
 "cells": [
  {
   "cell_type": "markdown",
   "id": "0848e039",
   "metadata": {},
   "source": [
    "##CONDITIONAL STATEMENT\n",
    "* if,else,elif\n"
   ]
  },
  {
   "cell_type": "code",
   "execution_count": null,
   "id": "b798324b",
   "metadata": {},
   "outputs": [],
   "source": []
  },
  {
   "cell_type": "code",
   "execution_count": 4,
   "id": "1e9c396a",
   "metadata": {},
   "outputs": [
    {
     "name": "stdout",
     "output_type": "stream",
     "text": [
      "x ki value hai vo 18 hai\n"
     ]
    }
   ],
   "source": [
    "x= 18\n",
    "if x<18:\n",
    "    print(\"x hai vo chota hai 18\")\n",
    "elif x==18:\n",
    "    print(\"x ki value hai vo 18 hai\")\n",
    "else:\n",
    "    print(\"x hai vo bda mhai 10 se\")"
   ]
  },
  {
   "cell_type": "code",
   "execution_count": null,
   "id": "e80ee329",
   "metadata": {},
   "outputs": [],
   "source": []
  },
  {
   "cell_type": "code",
   "execution_count": null,
   "id": "84e6d973",
   "metadata": {},
   "outputs": [],
   "source": []
  }
 ],
 "metadata": {
  "kernelspec": {
   "display_name": "Python 3",
   "language": "python",
   "name": "python3"
  },
  "language_info": {
   "codemirror_mode": {
    "name": "ipython",
    "version": 3
   },
   "file_extension": ".py",
   "mimetype": "text/x-python",
   "name": "python",
   "nbconvert_exporter": "python",
   "pygments_lexer": "ipython3",
   "version": "3.13.5"
  }
 },
 "nbformat": 4,
 "nbformat_minor": 5
}
