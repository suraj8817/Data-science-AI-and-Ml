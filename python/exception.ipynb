{
 "cells": [
  {
   "cell_type": "code",
   "execution_count": 1,
   "id": "4506f7e8",
   "metadata": {},
   "outputs": [],
   "source": [
    "try:\n",
    "    pass ## main code\n",
    "except:\n",
    "    pass ## error handler\n",
    "else:\n",
    "    pass  ## Multiple error\n",
    "finally:\n",
    "    pass  ## koi chale ya na v\\chale mai chala"
   ]
  },
  {
   "cell_type": "code",
   "execution_count": 2,
   "id": "c739997a",
   "metadata": {},
   "outputs": [
    {
     "name": "stdout",
     "output_type": "stream",
     "text": [
      "invalid input invalid literal for int() with base 10: ''\n"
     ]
    }
   ],
   "source": [
    "try:\n",
    "    a = int(input(\"enter a number\"))\n",
    "    b = int(input(\"enter second number\"))\n",
    "    print(a*b)\n",
    "except ValueError as e:\n",
    "    print(\"invalid input\", e)\n",
    "\n",
    "\n",
    "    # python error handling"
   ]
  },
  {
   "cell_type": "code",
   "execution_count": 3,
   "id": "4944d325",
   "metadata": {},
   "outputs": [
    {
     "name": "stdout",
     "output_type": "stream",
     "text": [
      "2408\n"
     ]
    }
   ],
   "source": [
    "try:\n",
    "    a = int(input(\"enter a number\"))\n",
    "    b = int(input(\"enter second number\"))\n",
    "    print(a*b)\n",
    "except ZeroDivisionError as e:\n",
    "    print(\"invalid input\", e)"
   ]
  },
  {
   "cell_type": "code",
   "execution_count": 6,
   "id": "9af83fbe",
   "metadata": {},
   "outputs": [
    {
     "name": "stdout",
     "output_type": "stream",
     "text": [
      "0.6615384615384615\n"
     ]
    }
   ],
   "source": [
    "try:\n",
    "    a = int(input(\"enter a number\"))\n",
    "    b = int(input(\"enter second number\"))\n",
    "    print(a/b)\n",
    "except Exception as e:\n",
    "    print(e)"
   ]
  },
  {
   "cell_type": "code",
   "execution_count": null,
   "id": "5f2eea24",
   "metadata": {},
   "outputs": [
    {
     "name": "stdout",
     "output_type": "stream",
     "text": [
      "1.0\n",
      "no error\n",
      "144\n",
      "mai zinda hu\n"
     ]
    },
    {
     "ename": "",
     "evalue": "",
     "output_type": "error",
     "traceback": [
      "\u001b[1;31mThe Kernel crashed while executing code in the current cell or a previous cell. \n",
      "\u001b[1;31mPlease review the code in the cell(s) to identify a possible cause of the failure. \n",
      "\u001b[1;31mClick <a href='https://aka.ms/vscodeJupyterKernelCrash'>here</a> for more info. \n",
      "\u001b[1;31mView Jupyter <a href='command:jupyter.viewOutput'>log</a> for further details."
     ]
    }
   ],
   "source": [
    "try:\n",
    "    a =int(input(\"enter a number\"))\n",
    "    b =int(input(\"enter secomd number\"))\n",
    "    print(a/b)\n",
    "except Exception as e:\n",
    "    print(e)\n",
    "else:\n",
    "    print(\"no error\")\n",
    "    print(a*b)\n",
    "finally:\n",
    "    print(\"mai zinda hu\")"
   ]
  },
  {
   "cell_type": "code",
   "execution_count": null,
   "id": "42671649",
   "metadata": {},
   "outputs": [],
   "source": [
    "try:\n",
    "    num1 =int(input(\"enter a number\"))\n",
    "    num2 =int(input(\"enter second number\"))\n",
    "    result =num1/num2\n",
    "except ZeroDivisionError as e:\n",
    "    print(e)\n",
    "except ValueError as e:\n",
    "print(e)\n",
    "\n",
    "except Exception as e:\n",
    "print(e)\n",
    "else:\n",
    "    print(\"final_result:-\",result)\n",
    "finally:\n",
    "    print(\"thanks for  using our service\")"
   ]
  },
  {
   "cell_type": "code",
   "execution_count": null,
   "id": "d7181397",
   "metadata": {},
   "outputs": [],
   "source": []
  }
 ],
 "metadata": {
  "kernelspec": {
   "display_name": "Python 3",
   "language": "python",
   "name": "python3"
  },
  "language_info": {
   "codemirror_mode": {
    "name": "ipython",
    "version": 3
   },
   "file_extension": ".py",
   "mimetype": "text/x-python",
   "name": "python",
   "nbconvert_exporter": "python",
   "pygments_lexer": "ipython3",
   "version": "3.13.5"
  }
 },
 "nbformat": 4,
 "nbformat_minor": 5
}
