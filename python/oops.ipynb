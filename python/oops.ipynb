{
 "cells": [
  {
   "cell_type": "markdown",
   "id": "79a0ae87",
   "metadata": {},
   "source": [
    "#oops concept in python"
   ]
  },
  {
   "cell_type": "markdown",
   "id": "761688c2",
   "metadata": {},
   "source": []
  },
  {
   "cell_type": "code",
   "execution_count": 118,
   "id": "5249c526",
   "metadata": {},
   "outputs": [],
   "source": [
    "# class class_name:\n",
    "#     pass\n",
    "# #class_name>>>>>>>> class name\n",
    "# pass >>>>> placeholder\n",
    "# class is a keyword"
   ]
  },
  {
   "cell_type": "code",
   "execution_count": 119,
   "id": "0c9f0323",
   "metadata": {},
   "outputs": [],
   "source": [
    "# Class student:\n",
    "#     name = \"suraj\"\n",
    "#     age = 20\n",
    "#     print(f\"my name is {name} and my age is {age}\")\n",
    "# obj_st=student()"
   ]
  },
  {
   "cell_type": "code",
   "execution_count": 120,
   "id": "eb0caa46",
   "metadata": {},
   "outputs": [],
   "source": [
    "# obj_st.name"
   ]
  },
  {
   "cell_type": "code",
   "execution_count": 121,
   "id": "e3272225",
   "metadata": {},
   "outputs": [],
   "source": [
    "# Class student:\n",
    "# name = \"suraj\"\n",
    "# age =20\n",
    "\n",
    "# def info(self):\n",
    "#     print(\"this is my first method\")\n",
    "\n",
    "# dt_obj =student()    "
   ]
  },
  {
   "cell_type": "code",
   "execution_count": 122,
   "id": "03696196",
   "metadata": {},
   "outputs": [],
   "source": [
    "# Class student:\n",
    "# name =\"suraj\"\n",
    "# age =20\n",
    "#  def info(self):\n",
    "#  print(f\"my name is {self.name} and my age is {self. age}\")\n",
    "\n",
    "# dt_obj =student()"
   ]
  },
  {
   "cell_type": "code",
   "execution_count": null,
   "id": "74239931",
   "metadata": {},
   "outputs": [],
   "source": []
  },
  {
   "cell_type": "code",
   "execution_count": null,
   "id": "64b32adf",
   "metadata": {},
   "outputs": [],
   "source": []
  },
  {
   "cell_type": "code",
   "execution_count": null,
   "id": "706274d9",
   "metadata": {},
   "outputs": [],
   "source": []
  },
  {
   "cell_type": "markdown",
   "id": "cdef7e0c",
   "metadata": {},
   "source": [
    "inheritence"
   ]
  },
  {
   "cell_type": "markdown",
   "id": "d19b2b65",
   "metadata": {},
   "source": [
    "types\n",
    " single\n",
    " multiple\n",
    " multilevel\n",
    " hierarchical\n",
    " hybrid "
   ]
  },
  {
   "cell_type": "code",
   "execution_count": 123,
   "id": "f6c960bb",
   "metadata": {},
   "outputs": [],
   "source": [
    "# class Collage:\n",
    "#     pass\n",
    "# class Student:\n",
    "#     pass"
   ]
  },
  {
   "cell_type": "code",
   "execution_count": 124,
   "id": "37b76166",
   "metadata": {},
   "outputs": [],
   "source": [
    "# # single inheritence\n",
    "# Class Collage:\n",
    "#     pass\n",
    "# Class Student(Collage):\n",
    "# pass"
   ]
  },
  {
   "cell_type": "code",
   "execution_count": 125,
   "id": "e2c3264a",
   "metadata": {},
   "outputs": [],
   "source": [
    "# Class Collage:\n",
    "# Collage_name =\"cit\"\n",
    "# Collage_address =\"abu road\"\n",
    "# class info(self):\n",
    "#     print(self.collage_name)\n",
    "#     print(self.Collage_address)\n",
    "# Class Student(Collage):\n",
    "# Student_name = \"suraj\"\n",
    "# student _id =\"1234\"\n",
    "# st_obj =Student()\n",
    "# print(st.Collage_name)\n",
    "# print(st.Collage_address)\n",
    "# print(st.student_name)\n",
    "# print(st.student_address)"
   ]
  },
  {
   "cell_type": "markdown",
   "id": "57c70702",
   "metadata": {},
   "source": [
    "multiple inheritence"
   ]
  },
  {
   "cell_type": "code",
   "execution_count": 126,
   "id": "0c3e7055",
   "metadata": {},
   "outputs": [],
   "source": [
    "# class Father:\n",
    "#     Father_name =\"yui\"\n",
    "#     Father_id =\"1234\"\n",
    "# Class uncle:\n",
    "\n",
    "\n",
    "# Class Child:\n",
    "\n",
    "\n",
    "# obj_Child = Child()\n",
    "# print(obj_Child.Father_name)\n",
    "# print(obj_Child.Father_id)\n",
    "# print(obj_Child.Uncle_name)"
   ]
  },
  {
   "cell_type": "code",
   "execution_count": 127,
   "id": "81fa1ad1",
   "metadata": {},
   "outputs": [],
   "source": [
    "# Class Grandfather:\n",
    "# Grandfather_name =\"ryug\"\n",
    "# Grandfather_id =\n"
   ]
  },
  {
   "cell_type": "markdown",
   "id": "6163bb5a",
   "metadata": {},
   "source": [
    "### Encapsulation"
   ]
  },
  {
   "cell_type": "code",
   "execution_count": 128,
   "id": "0edae7bf",
   "metadata": {},
   "outputs": [],
   "source": [
    "# private\n",
    "# public\n",
    "# protected\n",
    "class Student:\n",
    "    __name = \"suraj\"   \n",
    "    age = 20         \n",
    "    _id = \"12344\"  \n",
    "\n",
    "\n",
    "st_obj = Student() \n",
    "   \n",
    "# st_obj =Student()\n"
   ]
  },
  {
   "cell_type": "code",
   "execution_count": 129,
   "id": "5ba1d21d",
   "metadata": {},
   "outputs": [
    {
     "data": {
      "text/plain": [
       "20"
      ]
     },
     "execution_count": 129,
     "metadata": {},
     "output_type": "execute_result"
    }
   ],
   "source": [
    "st_obj.age"
   ]
  },
  {
   "cell_type": "code",
   "execution_count": 130,
   "id": "3ec861b5",
   "metadata": {},
   "outputs": [
    {
     "ename": "AttributeError",
     "evalue": "'Student' object has no attribute '_student__name'",
     "output_type": "error",
     "traceback": [
      "\u001b[31m---------------------------------------------------------------------------\u001b[39m",
      "\u001b[31mAttributeError\u001b[39m                            Traceback (most recent call last)",
      "\u001b[36mCell\u001b[39m\u001b[36m \u001b[39m\u001b[32mIn[130]\u001b[39m\u001b[32m, line 1\u001b[39m\n\u001b[32m----> \u001b[39m\u001b[32m1\u001b[39m \u001b[43mst_obj\u001b[49m\u001b[43m.\u001b[49m\u001b[43m_student__name\u001b[49m\n",
      "\u001b[31mAttributeError\u001b[39m: 'Student' object has no attribute '_student__name'"
     ]
    }
   ],
   "source": [
    "st_obj._student__name"
   ]
  },
  {
   "cell_type": "code",
   "execution_count": null,
   "id": "0accb3af",
   "metadata": {},
   "outputs": [],
   "source": [
    "class "
   ]
  },
  {
   "cell_type": "code",
   "execution_count": null,
   "id": "7492696c",
   "metadata": {},
   "outputs": [
    {
     "ename": "SyntaxError",
     "evalue": "invalid syntax. Perhaps you forgot a comma? (1968917904.py, line 12)",
     "output_type": "error",
     "traceback": [
      "  \u001b[36mCell\u001b[39m\u001b[36m \u001b[39m\u001b[32mIn[83]\u001b[39m\u001b[32m, line 12\u001b[39m\n\u001b[31m    \u001b[39m\u001b[31mprint(f\"Phone Number: {cls.8817118174}\")\u001b[39m\n                           ^\n\u001b[31mSyntaxError\u001b[39m\u001b[31m:\u001b[39m invalid syntax. Perhaps you forgot a comma?\n"
     ]
    }
   ],
   "source": [
    "class BankAccount:\n",
    "    self.name = \"suraj\"\n",
    "    self.address = \"gwl\"\n",
    "    self.phone_number = 8817118174\n",
    "    self.account_number = 9098975185\n",
    "    balance = 2000\n",
    "\n",
    "    @classmethod\n",
    "    def display_account_info(cls):\n",
    "        print(f\"Name: {.suraj}\")\n",
    "        print(f\"Address: {cls.gwl}\")\n",
    "        print(f\"Phone Number: {cls.8817118174}\")\n",
    "        print(f\"Account Number: {cls.9098975185}\")\n",
    "        print(f\"Total Balance: {cls.2000}\")\n",
    "\n",
    "    @classmethod\n",
    "    def get_balance(cls):\n",
    "        return cls.balance\n"
   ]
  },
  {
   "cell_type": "code",
   "execution_count": null,
   "id": "e5ffe682",
   "metadata": {},
   "outputs": [],
   "source": [
    "### Contructor\n",
    "# init method\n",
    "# __init__\n",
    "\n",
    "\n",
    "\n",
    "class Student:\n",
    "    def __init__(self):\n",
    "        pass\n",
    "    "
   ]
  },
  {
   "cell_type": "code",
   "execution_count": null,
   "id": "86de03c9",
   "metadata": {},
   "outputs": [],
   "source": [
    "#calling\n",
    "class Student:\n",
    "    def __init__(self):\n",
    "        pass\n",
    "    Student()"
   ]
  },
  {
   "cell_type": "code",
   "execution_count": null,
   "id": "6f8f28eb",
   "metadata": {},
   "outputs": [
    {
     "data": {
      "text/plain": [
       "'suraj'"
      ]
     },
     "execution_count": 111,
     "metadata": {},
     "output_type": "execute_result"
    }
   ],
   "source": [
    "class Student:\n",
    "    def __init__(self, name, age):\n",
    "        self.name = name\n",
    "        self.age = age\n",
    "\n",
    "\n",
    "obj_st =Student(name =\"suraj\",age=20)\n",
    "\n",
    "obj_st.name"
   ]
  },
  {
   "cell_type": "code",
   "execution_count": null,
   "id": "0f16f68f",
   "metadata": {},
   "outputs": [
    {
     "data": {
      "text/plain": [
       "20"
      ]
     },
     "execution_count": 112,
     "metadata": {},
     "output_type": "execute_result"
    }
   ],
   "source": [
    "obj_st.age"
   ]
  },
  {
   "cell_type": "code",
   "execution_count": null,
   "id": "9f6a45ed",
   "metadata": {},
   "outputs": [
    {
     "ename": "TypeError",
     "evalue": "Student.__init__() got an unexpected keyword argument 'name'",
     "output_type": "error",
     "traceback": [
      "\u001b[31m---------------------------------------------------------------------------\u001b[39m",
      "\u001b[31mTypeError\u001b[39m                                 Traceback (most recent call last)",
      "\u001b[36mCell\u001b[39m\u001b[36m \u001b[39m\u001b[32mIn[116]\u001b[39m\u001b[32m, line 10\u001b[39m\n\u001b[32m      6\u001b[39m     \u001b[38;5;28;01mdef\u001b[39;00m\u001b[38;5;250m \u001b[39m\u001b[34mdisplay\u001b[39m(\u001b[38;5;28mself\u001b[39m):\n\u001b[32m      7\u001b[39m         \u001b[38;5;28mprint\u001b[39m(\u001b[33mf\u001b[39m\u001b[33m\"\u001b[39m\u001b[33mmy name is \u001b[39m\u001b[38;5;132;01m{\u001b[39;00m\u001b[38;5;28mself\u001b[39m.name\u001b[38;5;132;01m}\u001b[39;00m\u001b[33m and my age is \u001b[39m\u001b[38;5;132;01m{\u001b[39;00m\u001b[38;5;28mself\u001b[39m.age\u001b[38;5;132;01m}\u001b[39;00m\u001b[33m and my address is \u001b[39m\u001b[38;5;132;01m{\u001b[39;00m\u001b[38;5;28mself\u001b[39m.address\u001b[38;5;132;01m}\u001b[39;00m\u001b[33m\"\u001b[39m)\n\u001b[32m---> \u001b[39m\u001b[32m10\u001b[39m obj_st=\u001b[43mStudent\u001b[49m\u001b[43m(\u001b[49m\u001b[43mname\u001b[49m\u001b[43m=\u001b[49m\u001b[33;43m\"\u001b[39;49m\u001b[33;43msursj\u001b[39;49m\u001b[33;43m\"\u001b[39;49m\u001b[43m,\u001b[49m\u001b[43mage\u001b[49m\u001b[43m=\u001b[49m\u001b[32;43m20\u001b[39;49m\u001b[43m,\u001b[49m\u001b[43maddress\u001b[49m\u001b[43m=\u001b[49m\u001b[33;43m\"\u001b[39;49m\u001b[33;43mgwl\u001b[39;49m\u001b[33;43m\"\u001b[39;49m\u001b[43m)\u001b[49m     \n\u001b[32m     11\u001b[39m obj_st.display()       \n",
      "\u001b[31mTypeError\u001b[39m: Student.__init__() got an unexpected keyword argument 'name'"
     ]
    }
   ],
   "source": [
    "class Student:\n",
    "    def __init__(self):\n",
    "        self.name = name\n",
    "        self.age = age\n",
    "        self.address = address\n",
    "    def display(self):\n",
    "        print(f\"my name is {self.name} and my age is {self.age} and my address is {self.address}\")\n",
    "\n",
    "\n",
    "obj_st=Student(name=\"sursj\",age=20,address=\"gwl\")     \n",
    "\n",
    "obj_st.display()       "
   ]
  },
  {
   "cell_type": "code",
   "execution_count": null,
   "id": "51db5251",
   "metadata": {},
   "outputs": [],
   "source": []
  },
  {
   "cell_type": "code",
   "execution_count": null,
   "id": "558aabcd",
   "metadata": {},
   "outputs": [],
   "source": [
    "class Baank:\n",
    "    def __init__(self, name, age, account_number, address):\n",
    "        self.name = name\n",
    "        self.age = age\n",
    "\n",
    "        self.__account_number"
   ]
  },
  {
   "cell_type": "code",
   "execution_count": 137,
   "id": "b321f135",
   "metadata": {},
   "outputs": [
    {
     "name": "stdout",
     "output_type": "stream",
     "text": [
      "Account Number: 123456789\n",
      "Name: suraj\n",
      "Address: gwl\n",
      "Phone Number: 8817118174\n",
      "Total Balance: 1000.00\n",
      "Deposited: 500.00. New balance: 1500.00.\n",
      "Withdrew: 200.00. New balance: 1300.00.\n",
      "Current Balance: 1300.00\n"
     ]
    }
   ],
   "source": [
    "class BankAccount:\n",
    "    def __init__(self, account_number, name, address, phone_number, initial_balance=0.0):\n",
    "        self.account_number = account_number\n",
    "        self.name = name\n",
    "        self.address = address\n",
    "        self.phone_number = phone_number\n",
    "        self.balance = initial_balance\n",
    "\n",
    "    def deposit(self, amount):\n",
    "        if amount > 0:\n",
    "            self.balance += amount\n",
    "            print(f\"Deposited: {amount:.2f}. New balance: {self.balance:.2f}.\")\n",
    "        else:\n",
    "            print(\"Deposit amount must be positive.\")\n",
    "\n",
    "    def withdraw(self, amount):\n",
    "        if 0 < amount <= self.balance:\n",
    "            self.balance -= amount\n",
    "            print(f\"Withdrew: {amount:.2f}. New balance: {self.balance:.2f}.\")\n",
    "        else:\n",
    "            print(\"Insufficient funds or invalid withdrawal amount.\")\n",
    "\n",
    "    def get_balance(self):\n",
    "        return self.balance\n",
    "\n",
    "    def display_account_info(self):\n",
    "        print(f\"Account Number: {self.account_number}\")\n",
    "        print(f\"Name: {self.name}\")\n",
    "        print(f\"Address: {self.address}\")\n",
    "        print(f\"Phone Number: {self.phone_number}\")\n",
    "        print(f\"Total Balance: {self.balance:.2f}\")\n",
    "\n",
    "if __name__ == \"__main__\":\n",
    "    account = BankAccount(\"123456789\", \"suraj\", \"gwl\", \"8817118174\", 1000.0)\n",
    "    account.display_account_info()\n",
    "    account.deposit(500)\n",
    "    account.withdraw(200)\n",
    "    print(f\"Current Balance: {account.get_balance():.2f}\")\n"
   ]
  },
  {
   "cell_type": "code",
   "execution_count": null,
   "id": "a966c30d",
   "metadata": {},
   "outputs": [
    {
     "ename": "SyntaxError",
     "evalue": "invalid syntax (1083127964.py, line 36)",
     "output_type": "error",
     "traceback": [
      "  \u001b[36mCell\u001b[39m\u001b[36m \u001b[39m\u001b[32mIn[139]\u001b[39m\u001b[32m, line 36\u001b[39m\n\u001b[31m    \u001b[39m\u001b[31mprint(f\"Error: {e}\")tion\u001b[39m\n                        ^\n\u001b[31mSyntaxError\u001b[39m\u001b[31m:\u001b[39m invalid syntax\n"
     ]
    }
   ],
   "source": [
    "class BMI:\n",
    "    def _init_(self, weight_kg, height_m):\n",
    "        self.weight = weight_kg\n",
    "        self.height = height_m\n",
    "\n",
    "    def calculate_bmi(self):\n",
    "        if self.height <= 0:\n",
    "            raise ValueError(\"Height must be greater than zero.\")\n",
    "        bmi = self.weight / (self.height ** 2)\n",
    "        return round(bmi, 2)\n",
    "\n",
    "    def classify_bmi(self):\n",
    "        bmi = self.calculate_bmi()\n",
    "        if bmi < 18.5:\n",
    "            return \"Underweight\"\n",
    "        elif 18.5 <= bmi < 24.9:\n",
    "            return \"Normal weight\"\n",
    "        elif 25 <= bmi < 29.9:\n",
    "            return \"Overweight\"\n",
    "        else:\n",
    "            return \"Obesity\"\n",
    "\n",
    "if _name_ == \"_main_\":\n",
    "    try:\n",
    "        weight = float(input(\"Enter your weight in kg: \"))\n",
    "        height = float(input(\"Enter your height in meters: \"))\n",
    "        \n",
    "        person = BMI(weight, height)\n",
    "        bmi_value = person.calculate_bmi()\n",
    "        category = person.classify_bmi()\n",
    "\n",
    "        print(f\"Your BMI is: {bmi_value}\")\n",
    "        print(f\"BMI Category: {category}\")\n",
    "    except ValueError as e:\n",
    "        print(f\"Error: {e}\")tion"
   ]
  },
  {
   "cell_type": "code",
   "execution_count": null,
   "id": "eeb8bfca",
   "metadata": {},
   "outputs": [
    {
     "ename": "TypeError",
     "evalue": "BMICalculator() takes no arguments",
     "output_type": "error",
     "traceback": [
      "\u001b[31m---------------------------------------------------------------------------\u001b[39m",
      "\u001b[31mTypeError\u001b[39m                                 Traceback (most recent call last)",
      "\u001b[36mCell\u001b[39m\u001b[36m \u001b[39m\u001b[32mIn[140]\u001b[39m\u001b[32m, line 29\u001b[39m\n\u001b[32m     25\u001b[39m weight = \u001b[38;5;28mfloat\u001b[39m(\u001b[38;5;28minput\u001b[39m(\u001b[33m\"\u001b[39m\u001b[33mEnter your weight in kg:\u001b[39m\u001b[33m\"\u001b[39m))\n\u001b[32m     26\u001b[39m height = \u001b[38;5;28mfloat\u001b[39m(\u001b[38;5;28minput\u001b[39m(\u001b[33m\"\u001b[39m\u001b[33mEnter your height in meters: \u001b[39m\u001b[33m\"\u001b[39m))\n\u001b[32m---> \u001b[39m\u001b[32m29\u001b[39m b1 = \u001b[43mBMICalculator\u001b[49m\u001b[43m(\u001b[49m\u001b[43mweight\u001b[49m\u001b[43m,\u001b[49m\u001b[43m \u001b[49m\u001b[43mheight\u001b[49m\u001b[43m)\u001b[49m\n\u001b[32m     32\u001b[39m b1.interpret_bmi()\n",
      "\u001b[31mTypeError\u001b[39m: BMICalculator() takes no arguments"
     ]
    },
    {
     "ename": "",
     "evalue": "",
     "output_type": "error",
     "traceback": [
      "\u001b[1;31mThe Kernel crashed while executing code in the current cell or a previous cell. \n",
      "\u001b[1;31mPlease review the code in the cell(s) to identify a possible cause of the failure. \n",
      "\u001b[1;31mClick <a href='https://aka.ms/vscodeJupyterKernelCrash'>here</a> for more info. \n",
      "\u001b[1;31mView Jupyter <a href='command:jupyter.viewOutput'>log</a> for further details."
     ]
    }
   ],
   "source": [
    "class BMICalculator:\n",
    "    def _init_(self, weight, height):\n",
    "        self.weight = weight     \n",
    "        self.height = height      \n",
    "\n",
    "    def calculate_bmi(self):\n",
    "        bmi = self.weight / (self.height ** 2)\n",
    "        return bmi\n",
    "\n",
    "    def interpret_bmi(self):\n",
    "        bmi = self.calculate_bmi()\n",
    "        print(f\"Your BMI is: {bmi:.2f}\")\n",
    "\n",
    "        if bmi < 18.5:\n",
    "            print(\"You are Underweight.\")\n",
    "        elif bmi < 25:\n",
    "            print(\"You have Normal weight.\")\n",
    "        elif bmi < 30:\n",
    "            print(\"You are Overweight.\")\n",
    "        else:\n",
    "            print(\"You are Obese.\")\n",
    "\n",
    "\n",
    "\n",
    "weight = float(input(\"Enter your weight in kg:\"))\n",
    "height = float(input(\"Enter your height in meters: \"))\n",
    "\n",
    "\n",
    "b1 = BMICalculator(weight, height)\n",
    "\n",
    "\n",
    "b1.interpret_bmi()"
   ]
  },
  {
   "cell_type": "code",
   "execution_count": null,
   "id": "5df272df",
   "metadata": {},
   "outputs": [],
   "source": []
  }
 ],
 "metadata": {
  "kernelspec": {
   "display_name": "Python 3",
   "language": "python",
   "name": "python3"
  },
  "language_info": {
   "codemirror_mode": {
    "name": "ipython",
    "version": 3
   },
   "file_extension": ".py",
   "mimetype": "text/x-python",
   "name": "python",
   "nbconvert_exporter": "python",
   "pygments_lexer": "ipython3",
   "version": "3.13.5"
  }
 },
 "nbformat": 4,
 "nbformat_minor": 5
}
