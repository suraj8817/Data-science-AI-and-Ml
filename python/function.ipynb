{
 "cells": [
  {
   "cell_type": "markdown",
   "id": "ff8ed3e0",
   "metadata": {},
   "source": [
    "#function"
   ]
  },
  {
   "cell_type": "code",
   "execution_count": 24,
   "id": "2b62d07b",
   "metadata": {},
   "outputs": [],
   "source": [
    "# def function_name()\n",
    "#     pass\n",
    "\n",
    "# function_name>>>>>>>>>>...function name define\n",
    "# def is K"
   ]
  },
  {
   "cell_type": "code",
   "execution_count": null,
   "id": "a78bf921",
   "metadata": {},
   "outputs": [],
   "source": []
  },
  {
   "cell_type": "code",
   "execution_count": 25,
   "id": "5c96030d",
   "metadata": {},
   "outputs": [],
   "source": [
    "# def add():\n",
    "#     a = 10\n",
    "#     b = 20\n",
    "#     print(a+b)\n",
    "#     add()\n"
   ]
  },
  {
   "cell_type": "code",
   "execution_count": 26,
   "id": "e430d6d5",
   "metadata": {},
   "outputs": [],
   "source": [
    "# def add(a,b)\n",
    "#     print(a+b)\n",
    "#     add(a = 10,b = 20)\n"
   ]
  },
  {
   "cell_type": "code",
   "execution_count": 27,
   "id": "c012db3f",
   "metadata": {},
   "outputs": [],
   "source": [
    "def display(name,age,address= \"gwl\"): \n",
    "    print(f\"my name is {name} and my {age} and i am from {address}\")"
   ]
  },
  {
   "cell_type": "code",
   "execution_count": 28,
   "id": "cf1a131b",
   "metadata": {},
   "outputs": [
    {
     "name": "stdout",
     "output_type": "stream",
     "text": [
      "my name is suraj and my 22 and i am from gwl\n"
     ]
    }
   ],
   "source": [
    "display(\"suraj\",22)"
   ]
  },
  {
   "cell_type": "code",
   "execution_count": 29,
   "id": "1f3eca86",
   "metadata": {},
   "outputs": [
    {
     "name": "stdout",
     "output_type": "stream",
     "text": [
      "my name is suraj and my 22 and i am from gwl\n"
     ]
    }
   ],
   "source": [
    "display(\"suraj\",22,\"gwl\")"
   ]
  },
  {
   "cell_type": "code",
   "execution_count": 30,
   "id": "16349068",
   "metadata": {},
   "outputs": [
    {
     "data": {
      "text/plain": [
       "30"
      ]
     },
     "execution_count": 30,
     "metadata": {},
     "output_type": "execute_result"
    }
   ],
   "source": [
    "add = lambda a , b, : a+b\n",
    "add(10,20)"
   ]
  },
  {
   "cell_type": "code",
   "execution_count": 31,
   "id": "2f62add6",
   "metadata": {},
   "outputs": [
    {
     "data": {
      "text/plain": [
       "100"
      ]
     },
     "execution_count": 31,
     "metadata": {},
     "output_type": "execute_result"
    }
   ],
   "source": [
    "square = lambda a : a**2\n",
    "square(10)"
   ]
  },
  {
   "cell_type": "code",
   "execution_count": null,
   "id": "2b0b1838",
   "metadata": {},
   "outputs": [],
   "source": []
  }
 ],
 "metadata": {
  "kernelspec": {
   "display_name": "Python 3",
   "language": "python",
   "name": "python3"
  },
  "language_info": {
   "codemirror_mode": {
    "name": "ipython",
    "version": 3
   },
   "file_extension": ".py",
   "mimetype": "text/x-python",
   "name": "python",
   "nbconvert_exporter": "python",
   "pygments_lexer": "ipython3",
   "version": "3.13.5"
  }
 },
 "nbformat": 4,
 "nbformat_minor": 5
}
