{
 "cells": [
  {
   "cell_type": "markdown",
   "id": "e0a5d6fe",
   "metadata": {},
   "source": [
    "#looping"
   ]
  },
  {
   "cell_type": "code",
   "execution_count": 2,
   "id": "145b0018",
   "metadata": {},
   "outputs": [
    {
     "name": "stdout",
     "output_type": "stream",
     "text": [
      "s\n",
      "u\n",
      "r\n",
      "a\n",
      "j\n"
     ]
    }
   ],
   "source": [
    "#for\n",
    "#while\n",
    "#\"suraj\"\n",
    "for x in \"suraj\":\n",
    "    print(x)"
   ]
  },
  {
   "cell_type": "code",
   "execution_count": 3,
   "id": "1cedc0f9",
   "metadata": {},
   "outputs": [
    {
     "name": "stdout",
     "output_type": "stream",
     "text": [
      "1\n",
      "3\n",
      "4\n"
     ]
    }
   ],
   "source": [
    "lst = [1,3,4]\n",
    "for x in lst:\n",
    "    print(x)\n",
    "    "
   ]
  },
  {
   "cell_type": "code",
   "execution_count": 4,
   "id": "f1f700b7",
   "metadata": {},
   "outputs": [
    {
     "name": "stdout",
     "output_type": "stream",
     "text": [
      "0\n",
      "1\n",
      "2\n",
      "3\n",
      "4\n",
      "5\n",
      "6\n",
      "7\n",
      "8\n",
      "9\n"
     ]
    }
   ],
   "source": [
    "#range\n",
    "for x in range(10):\n",
    "    print(x)"
   ]
  },
  {
   "cell_type": "code",
   "execution_count": 5,
   "id": "6b0adbb2",
   "metadata": {},
   "outputs": [
    {
     "name": "stdout",
     "output_type": "stream",
     "text": [
      "2\n",
      "4\n",
      "6\n",
      "8\n",
      "10\n",
      "12\n",
      "14\n",
      "16\n",
      "18\n",
      "20\n"
     ]
    }
   ],
   "source": [
    "for x in range(2,22,2):\n",
    "    print(x) ## start point and second ending and 2 gap"
   ]
  },
  {
   "cell_type": "code",
   "execution_count": 6,
   "id": "bb5d7d0f",
   "metadata": {},
   "outputs": [
    {
     "name": "stdout",
     "output_type": "stream",
     "text": [
      "suraj\n",
      "1st class\n",
      "23ecacs050\n",
      "jaipur\n"
     ]
    }
   ],
   "source": [
    "my_dict = {\"name\":\"suraj\",\n",
    "\"class\":\"1st class\",\n",
    "\"rollnumber\":\"23ecacs050\",\n",
    "\"address\":\"jaipur\"\n",
    "}\n",
    "for item in my_dict.values():\n",
    "    print(item)"
   ]
  },
  {
   "cell_type": "code",
   "execution_count": null,
   "id": "c78b1821",
   "metadata": {},
   "outputs": [
    {
     "name": "stdout",
     "output_type": "stream",
     "text": [
      "\n",
      "====== Task 2 Menu ======\n",
      "1. Find Largest of Three Numbers\n",
      "2. Check Even or Odd\n",
      "3. Leap Year Checker\n",
      "4. Grading System\n",
      "5. Exit\n"
     ]
    }
   ],
   "source": [
    "# Task 2 - Python Program\n",
    "# Includes:\n",
    "# - Find the Largest Number among three\n",
    "# - Check Even or Odd\n",
    "# - Leap Year Checker\n",
    "# - Grading System\n",
    "\n",
    "def find_largest_number():\n",
    "    print(\"Enter three numbers to find the largest:\")\n",
    "    a = float(input(\"First number: \"))\n",
    "    b = float(input(\"Second number: \"))\n",
    "    c = float(input(\"Third number: \"))\n",
    "    largest = max(a, b, c)\n",
    "    print(\"The largest number is:\", largest)\n",
    "\n",
    "def check_even_or_odd():\n",
    "    num = int(input(\"Enter a number to check even or odd: \"))\n",
    "    if num % 2 == 0:\n",
    "        print(num, \"is Even\")\n",
    "    else:\n",
    "        print(num, \"is Odd\")\n",
    "\n",
    "def check_leap_year():\n",
    "    year = int(input(\"Enter a year: \"))\n",
    "    if (year % 4 == 0 and year % 100 != 0) or (year % 400 == 0):\n",
    "        print(year, \"is a Leap Year\")\n",
    "    else:\n",
    "        print(year, \"is Not a Leap Year\")\n",
    "\n",
    "def grading_system():\n",
    "    score = float(input(\"Enter the score: \"))\n",
    "    if score >= 90:\n",
    "        print(\"Grade A\")\n",
    "    elif score >= 75:\n",
    "        print(\"Grade B\")\n",
    "    elif score >= 60:\n",
    "        print(\"Grade C\")\n",
    "    else:\n",
    "        print(\"Grade D\")\n",
    "\n",
    "\n",
    "while True:\n",
    "    print(\"\\n====== Task 2 Menu ======\")\n",
    "    print(\"1. Find Largest of Three Numbers\")\n",
    "    print(\"2. Check Even or Odd\")\n",
    "    print(\"3. Leap Year Checker\")\n",
    "    print(\"4. Grading System\")\n",
    "    print(\"5. Exit\")\n",
    "    \n",
    "    choice = input(\"Enter your choice (1-5): \")\n",
    "\n",
    "    if choice == '1':\n",
    "        find_largest_number()\n",
    "    elif choice == '2':\n",
    "        check_even_or_odd()\n",
    "    elif choice == '3':\n",
    "        check_leap_year()\n",
    "    elif choice == '4':\n",
    "        grading_system()\n",
    "    elif choice == '5':\n",
    "        print(\"Exiting program. Goodbye!\")\n",
    "        break\n",
    "    else:\n",
    "        print(\"Invalid choice. Please enter a number between 1 and 5.\")"
   ]
  },
  {
   "cell_type": "code",
   "execution_count": null,
   "id": "c8e11bf4",
   "metadata": {},
   "outputs": [],
   "source": [
    "# Traffic Light System\n",
    "\n",
    "color = input(\"Enter the traffic light color (red, yellow, green): \").strip().lower()\n",
    "\n",
    "if color == \"red\":\n",
    "    print(\"Stop\")\n",
    "elif color == \"yellow\":\n",
    "    print(\"Wait\")\n",
    "elif color == \"green\":\n",
    "    print(\"Go\")\n",
    "else:\n",
    "    print(\"Invalid color\")"
   ]
  },
  {
   "cell_type": "code",
   "execution_count": null,
   "id": "357e2837",
   "metadata": {},
   "outputs": [],
   "source": [
    "###while loop"
   ]
  },
  {
   "cell_type": "code",
   "execution_count": 4,
   "id": "91f71516",
   "metadata": {},
   "outputs": [
    {
     "ename": "_IncompleteInputError",
     "evalue": "incomplete input (3819219491.py, line 3)",
     "output_type": "error",
     "traceback": [
      "  \u001b[36mCell\u001b[39m\u001b[36m \u001b[39m\u001b[32mIn[4]\u001b[39m\u001b[32m, line 3\u001b[39m\n\u001b[31m    \u001b[39m\n    ^\n\u001b[31m_IncompleteInputError\u001b[39m\u001b[31m:\u001b[39m incomplete input\n"
     ]
    }
   ],
   "source": [
    "a =20\n",
    "while a>10:\n",
    "    "
   ]
  },
  {
   "cell_type": "code",
   "execution_count": null,
   "id": "b47ec5e8",
   "metadata": {},
   "outputs": [],
   "source": []
  },
  {
   "cell_type": "markdown",
   "id": "ad7f2c8a",
   "metadata": {},
   "source": []
  }
 ],
 "metadata": {
  "kernelspec": {
   "display_name": "Python 3",
   "language": "python",
   "name": "python3"
  },
  "language_info": {
   "codemirror_mode": {
    "name": "ipython",
    "version": 3
   },
   "file_extension": ".py",
   "mimetype": "text/x-python",
   "name": "python",
   "nbconvert_exporter": "python",
   "pygments_lexer": "ipython3",
   "version": "3.13.5"
  }
 },
 "nbformat": 4,
 "nbformat_minor": 5
}
